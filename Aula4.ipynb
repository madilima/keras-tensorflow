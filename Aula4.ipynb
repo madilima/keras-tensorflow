{
  "nbformat": 4,
  "nbformat_minor": 0,
  "metadata": {
    "colab": {
      "provenance": [],
      "toc_visible": true,
      "authorship_tag": "ABX9TyOOJ4uElPztfZj7GrdUfj8J",
      "include_colab_link": true
    },
    "kernelspec": {
      "name": "python3",
      "display_name": "Python 3"
    },
    "language_info": {
      "name": "python"
    }
  },
  "cells": [
    {
      "cell_type": "markdown",
      "metadata": {
        "id": "view-in-github",
        "colab_type": "text"
      },
      "source": [
        "<a href=\"https://colab.research.google.com/github/madilima/keras-tensorflow/blob/main/Aula4.ipynb\" target=\"_parent\"><img src=\"https://colab.research.google.com/assets/colab-badge.svg\" alt=\"Open In Colab\"/></a>"
      ]
    },
    {
      "cell_type": "code",
      "source": [
        "import tensorflow\n",
        "from tensorflow import keras\n",
        "import matplotlib.pyplot as plt"
      ],
      "metadata": {
        "id": "v2jGnCv5k-7l"
      },
      "execution_count": null,
      "outputs": []
    },
    {
      "cell_type": "markdown",
      "source": [
        "Carregando o dataset"
      ],
      "metadata": {
        "id": "idrFmwpkmI3y"
      }
    },
    {
      "cell_type": "code",
      "source": [
        "dataset = keras.datasets.fashion_mnist\n",
        "((imagens_treino, identificacoes_treino),(imagens_teste, identificacoes_teste)) = dataset.load_data()\n"
      ],
      "metadata": {
        "id": "NfTgmAG2k-sc"
      },
      "execution_count": null,
      "outputs": []
    },
    {
      "cell_type": "markdown",
      "source": [
        "Exploração dos dados"
      ],
      "metadata": {
        "id": "O0e0TfUmmHkU"
      }
    },
    {
      "cell_type": "code",
      "source": [
        "len (imagens_treino)\n",
        "imagens_treino.shape\n",
        "imagens_teste.shape\n",
        "len(identificacoes_teste)\n",
        "\n",
        "identificacoes_treino.min()\n",
        "identificacoes_treino.max()"
      ],
      "metadata": {
        "id": "Us2ywdJrk92c"
      },
      "execution_count": null,
      "outputs": []
    },
    {
      "cell_type": "markdown",
      "source": [
        "Exibir os dados"
      ],
      "metadata": {
        "id": "-WCWtkh8mg4W"
      }
    },
    {
      "cell_type": "code",
      "execution_count": null,
      "metadata": {
        "id": "eZNP1YlFRfdF",
        "collapsed": true
      },
      "outputs": [],
      "source": [
        "\n",
        "total_de_classificacoes = 10\n",
        "nome_de_classificacoes = ['Camiseta', 'Calça', 'Pullover', 'Vestido', 'Casaco',\n",
        "                          'Sandália', 'Camisa', 'Tênis', 'Bolsa', 'Bota']\n",
        "\n",
        "plt.imshow(imagens_treino[0])\n",
        "plt.title(identificacoes_treino[0])\n",
        "\n",
        "for imagem in range(10):\n",
        "  plt.subplot(2, 5, imagem+1)\n",
        "  plt.imshow(imagens_treino[imagem])\n",
        "  plt.title(nome_de_classificacoes[identificacoes_treino[imagem]])\n"
      ]
    },
    {
      "cell_type": "code",
      "source": [
        "modelo = keras.Sequential([\n",
        "    keras.layers.Flatten(input_shape=(28, 28)),\n",
        "    keras.layers.Dense(256, activation=tensorflow.nn.relu),\n",
        "    keras.layers.Dense(128, activation=tensorflow.nn.relu),\n",
        "    keras.layers.Dense(64, activation=tensorflow.nn.relu),\n",
        "    keras.layers.Dense(10, activation=tensorflow.nn.softmax)\n",
        "])\n",
        "\n",
        "modelo.compile(optimizer='adam',\n",
        "               loss='sparse_categorical_crossentropy')\n",
        "\n",
        "modelo.fit(imagens_treino, identificacoes_treino)\n"
      ],
      "metadata": {
        "id": "DlMVx96mpHQL"
      },
      "execution_count": null,
      "outputs": []
    }
  ]
}